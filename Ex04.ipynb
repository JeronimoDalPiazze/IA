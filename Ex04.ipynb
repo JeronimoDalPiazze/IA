{
 "cells": [
  {
   "cell_type": "code",
   "execution_count": 1,
   "metadata": {},
   "outputs": [],
   "source": [
    "import pandas as pd\n",
    "import seaborn as sns\n",
    "import matplotlib.pyplot as plt"
   ]
  },
  {
   "cell_type": "code",
   "execution_count": 2,
   "metadata": {},
   "outputs": [],
   "source": [
    "aluguel = pd.read_csv('files/aluguel.csv', sep=';')"
   ]
  },
  {
   "cell_type": "code",
   "execution_count": 3,
   "metadata": {},
   "outputs": [
    {
     "data": {
      "text/plain": [
       "0         500.0\n",
       "1           0.0\n",
       "2        4020.0\n",
       "3         390.0\n",
       "4         230.0\n",
       "          ...  \n",
       "32955     350.0\n",
       "32956     800.0\n",
       "32957     509.0\n",
       "32958     760.0\n",
       "32959    4206.0\n",
       "Name: Condominio, Length: 32960, dtype: float64"
      ]
     },
     "execution_count": 3,
     "metadata": {},
     "output_type": "execute_result"
    }
   ],
   "source": [
    "aluguel.Condominio.fillna(0)"
   ]
  },
  {
   "cell_type": "code",
   "execution_count": null,
   "metadata": {},
   "outputs": [],
   "source": [
    "aluguel.to_csv(\"aluguel_processado.csv\")"
   ]
  },
  {
   "cell_type": "code",
   "execution_count": 4,
   "metadata": {},
   "outputs": [
    {
     "data": {
      "text/plain": [
       "0         2200.0\n",
       "1            NaN\n",
       "2         9220.0\n",
       "3         1190.0\n",
       "4         1030.0\n",
       "          ...   \n",
       "32955     1150.0\n",
       "32956     2600.0\n",
       "32957     1909.0\n",
       "32958     3760.0\n",
       "32959    10706.0\n",
       "Length: 32960, dtype: float64"
      ]
     },
     "execution_count": 4,
     "metadata": {},
     "output_type": "execute_result"
    }
   ],
   "source": [
    "valor = aluguel['Valor'] + aluguel['Condominio']\n",
    "valor"
   ]
  },
  {
   "cell_type": "code",
   "execution_count": 7,
   "metadata": {},
   "outputs": [
    {
     "data": {
      "text/plain": [
       "0        55.000000\n",
       "1              NaN\n",
       "2        61.466667\n",
       "3        79.333333\n",
       "4        21.458333\n",
       "           ...    \n",
       "32955    42.592593\n",
       "32956    33.333333\n",
       "32957    39.770833\n",
       "32958    53.714286\n",
       "32959    42.824000\n",
       "Length: 32960, dtype: float64"
      ]
     },
     "execution_count": 7,
     "metadata": {},
     "output_type": "execute_result"
    }
   ],
   "source": [
    "valor_m2 = valor/ aluguel['Area']\n",
    "valor_m2"
   ]
  },
  {
   "cell_type": "code",
   "execution_count": null,
   "metadata": {},
   "outputs": [],
   "source": [
    "aluguel"
   ]
  },
  {
   "cell_type": "code",
   "execution_count": null,
   "metadata": {},
   "outputs": [],
   "source": []
  },
  {
   "cell_type": "code",
   "execution_count": null,
   "metadata": {},
   "outputs": [],
   "source": []
  },
  {
   "cell_type": "code",
   "execution_count": null,
   "metadata": {},
   "outputs": [],
   "source": []
  }
 ],
 "metadata": {
  "interpreter": {
   "hash": "916dbcbb3f70747c44a77c7bcd40155683ae19c65e1c03b4aa3499c5328201f1"
  },
  "kernelspec": {
   "display_name": "Python 3.8.10 64-bit",
   "language": "python",
   "name": "python3"
  },
  "language_info": {
   "codemirror_mode": {
    "name": "ipython",
    "version": 3
   },
   "file_extension": ".py",
   "mimetype": "text/x-python",
   "name": "python",
   "nbconvert_exporter": "python",
   "pygments_lexer": "ipython3",
   "version": "3.8.10"
  },
  "orig_nbformat": 4
 },
 "nbformat": 4,
 "nbformat_minor": 2
}
