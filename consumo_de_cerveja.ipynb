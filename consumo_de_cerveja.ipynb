{
 "cells": [
  {
   "cell_type": "code",
   "execution_count": 3,
   "metadata": {},
   "outputs": [],
   "source": [
    "import pandas as pd\n",
    "import seaborn as sns\n",
    "import matplotlib.pyplot as plt"
   ]
  },
  {
   "cell_type": "code",
   "execution_count": 6,
   "metadata": {},
   "outputs": [],
   "source": [
    "consumo_df = pd.read_csv('files/consumo_cerveja.csv', sep=';')"
   ]
  },
  {
   "cell_type": "code",
   "execution_count": 40,
   "metadata": {},
   "outputs": [
    {
     "data": {
      "text/html": [
       "<div>\n",
       "<style scoped>\n",
       "    .dataframe tbody tr th:only-of-type {\n",
       "        vertical-align: middle;\n",
       "    }\n",
       "\n",
       "    .dataframe tbody tr th {\n",
       "        vertical-align: top;\n",
       "    }\n",
       "\n",
       "    .dataframe thead th {\n",
       "        text-align: right;\n",
       "    }\n",
       "</style>\n",
       "<table border=\"1\" class=\"dataframe\">\n",
       "  <thead>\n",
       "    <tr style=\"text-align: right;\">\n",
       "      <th></th>\n",
       "      <th>data</th>\n",
       "      <th>temp_media</th>\n",
       "      <th>temp_min</th>\n",
       "      <th>temp_max</th>\n",
       "      <th>chuva</th>\n",
       "      <th>fds</th>\n",
       "      <th>consumo</th>\n",
       "    </tr>\n",
       "  </thead>\n",
       "  <tbody>\n",
       "    <tr>\n",
       "      <th>0</th>\n",
       "      <td>01/01/2015</td>\n",
       "      <td>27.30</td>\n",
       "      <td>23.9</td>\n",
       "      <td>32.5</td>\n",
       "      <td>0.0</td>\n",
       "      <td>0</td>\n",
       "      <td>25461</td>\n",
       "    </tr>\n",
       "    <tr>\n",
       "      <th>1</th>\n",
       "      <td>02/01/2015</td>\n",
       "      <td>27.02</td>\n",
       "      <td>24.5</td>\n",
       "      <td>33.5</td>\n",
       "      <td>0.0</td>\n",
       "      <td>0</td>\n",
       "      <td>28972</td>\n",
       "    </tr>\n",
       "    <tr>\n",
       "      <th>2</th>\n",
       "      <td>03/01/2015</td>\n",
       "      <td>24.82</td>\n",
       "      <td>22.4</td>\n",
       "      <td>29.9</td>\n",
       "      <td>0.0</td>\n",
       "      <td>1</td>\n",
       "      <td>30814</td>\n",
       "    </tr>\n",
       "    <tr>\n",
       "      <th>3</th>\n",
       "      <td>04/01/2015</td>\n",
       "      <td>23.98</td>\n",
       "      <td>21.5</td>\n",
       "      <td>28.6</td>\n",
       "      <td>1.2</td>\n",
       "      <td>1</td>\n",
       "      <td>29799</td>\n",
       "    </tr>\n",
       "    <tr>\n",
       "      <th>4</th>\n",
       "      <td>05/01/2015</td>\n",
       "      <td>23.82</td>\n",
       "      <td>21.0</td>\n",
       "      <td>28.3</td>\n",
       "      <td>0.0</td>\n",
       "      <td>0</td>\n",
       "      <td>28900</td>\n",
       "    </tr>\n",
       "    <tr>\n",
       "      <th>...</th>\n",
       "      <td>...</td>\n",
       "      <td>...</td>\n",
       "      <td>...</td>\n",
       "      <td>...</td>\n",
       "      <td>...</td>\n",
       "      <td>...</td>\n",
       "      <td>...</td>\n",
       "    </tr>\n",
       "    <tr>\n",
       "      <th>360</th>\n",
       "      <td>27/12/2015</td>\n",
       "      <td>24.00</td>\n",
       "      <td>21.1</td>\n",
       "      <td>28.2</td>\n",
       "      <td>13.6</td>\n",
       "      <td>1</td>\n",
       "      <td>32307</td>\n",
       "    </tr>\n",
       "    <tr>\n",
       "      <th>361</th>\n",
       "      <td>28/12/2015</td>\n",
       "      <td>22.64</td>\n",
       "      <td>21.1</td>\n",
       "      <td>26.7</td>\n",
       "      <td>0.0</td>\n",
       "      <td>0</td>\n",
       "      <td>26095</td>\n",
       "    </tr>\n",
       "    <tr>\n",
       "      <th>362</th>\n",
       "      <td>29/12/2015</td>\n",
       "      <td>21.68</td>\n",
       "      <td>20.3</td>\n",
       "      <td>24.1</td>\n",
       "      <td>10.3</td>\n",
       "      <td>0</td>\n",
       "      <td>22309</td>\n",
       "    </tr>\n",
       "    <tr>\n",
       "      <th>363</th>\n",
       "      <td>30/12/2015</td>\n",
       "      <td>21.38</td>\n",
       "      <td>19.3</td>\n",
       "      <td>22.4</td>\n",
       "      <td>6.3</td>\n",
       "      <td>0</td>\n",
       "      <td>20467</td>\n",
       "    </tr>\n",
       "    <tr>\n",
       "      <th>364</th>\n",
       "      <td>31/12/2015</td>\n",
       "      <td>24.76</td>\n",
       "      <td>20.2</td>\n",
       "      <td>29.0</td>\n",
       "      <td>0.0</td>\n",
       "      <td>0</td>\n",
       "      <td>22446</td>\n",
       "    </tr>\n",
       "  </tbody>\n",
       "</table>\n",
       "<p>365 rows × 7 columns</p>\n",
       "</div>"
      ],
      "text/plain": [
       "           data  temp_media  temp_min  temp_max  chuva  fds  consumo\n",
       "0    01/01/2015       27.30      23.9      32.5    0.0    0    25461\n",
       "1    02/01/2015       27.02      24.5      33.5    0.0    0    28972\n",
       "2    03/01/2015       24.82      22.4      29.9    0.0    1    30814\n",
       "3    04/01/2015       23.98      21.5      28.6    1.2    1    29799\n",
       "4    05/01/2015       23.82      21.0      28.3    0.0    0    28900\n",
       "..          ...         ...       ...       ...    ...  ...      ...\n",
       "360  27/12/2015       24.00      21.1      28.2   13.6    1    32307\n",
       "361  28/12/2015       22.64      21.1      26.7    0.0    0    26095\n",
       "362  29/12/2015       21.68      20.3      24.1   10.3    0    22309\n",
       "363  30/12/2015       21.38      19.3      22.4    6.3    0    20467\n",
       "364  31/12/2015       24.76      20.2      29.0    0.0    0    22446\n",
       "\n",
       "[365 rows x 7 columns]"
      ]
     },
     "execution_count": 40,
     "metadata": {},
     "output_type": "execute_result"
    }
   ],
   "source": [
    "consumo_df"
   ]
  },
  {
   "cell_type": "markdown",
   "metadata": {},
   "source": [
    "Qual o tamanho?"
   ]
  },
  {
   "cell_type": "code",
   "execution_count": 10,
   "metadata": {},
   "outputs": [
    {
     "data": {
      "text/plain": [
       "(365, 7)"
      ]
     },
     "execution_count": 10,
     "metadata": {},
     "output_type": "execute_result"
    }
   ],
   "source": [
    "consumo_df.shape"
   ]
  },
  {
   "cell_type": "markdown",
   "metadata": {},
   "source": [
    "Existem dados faltantes?"
   ]
  },
  {
   "cell_type": "code",
   "execution_count": null,
   "metadata": {},
   "outputs": [],
   "source": []
  },
  {
   "cell_type": "markdown",
   "metadata": {},
   "source": [
    "Existem outliers? Se sim, remova-os"
   ]
  },
  {
   "cell_type": "code",
   "execution_count": null,
   "metadata": {},
   "outputs": [],
   "source": []
  },
  {
   "cell_type": "markdown",
   "metadata": {},
   "source": [
    "Qual o consumo médio de cerveja?"
   ]
  },
  {
   "cell_type": "code",
   "execution_count": 16,
   "metadata": {},
   "outputs": [
    {
     "data": {
      "text/plain": [
       "25401.36712328767"
      ]
     },
     "execution_count": 16,
     "metadata": {},
     "output_type": "execute_result"
    }
   ],
   "source": [
    "consumo_df['consumo'].mean()"
   ]
  },
  {
   "cell_type": "markdown",
   "metadata": {},
   "source": [
    "Qual o consumo médio em dias de chuva?"
   ]
  },
  {
   "cell_type": "code",
   "execution_count": 19,
   "metadata": {},
   "outputs": [
    {
     "data": {
      "text/plain": [
       "24617.768707482992"
      ]
     },
     "execution_count": 19,
     "metadata": {},
     "output_type": "execute_result"
    }
   ],
   "source": [
    "consumo_df.query('chuva > 0').consumo.mean()\n"
   ]
  },
  {
   "cell_type": "markdown",
   "metadata": {},
   "source": [
    "Qual o consumo médio quando está frio?"
   ]
  },
  {
   "cell_type": "code",
   "execution_count": 41,
   "metadata": {},
   "outputs": [
    {
     "data": {
      "text/plain": [
       "array([27.3 , 27.02, 24.82, 23.98, 23.82, 23.78, 24.  , 24.9 , 28.2 ,\n",
       "       26.76, 27.62, 25.96, 25.52, 25.86, 26.5 , 28.86, 28.26, 28.22,\n",
       "       27.68, 25.32, 21.74, 21.04, 23.12, 24.4 , 22.4 , 23.6 , 25.68,\n",
       "       25.  , 22.8 , 21.64, 24.16, 22.48, 23.16, 22.12, 20.28, 21.06,\n",
       "       21.86, 22.76, 23.92, 25.38, 27.66, 25.54, 24.32, 22.9 , 21.6 ,\n",
       "       22.22, 24.72, 25.2 , 24.44, 25.4 , 24.3 , 22.24, 24.1 , 24.64,\n",
       "       21.26, 22.16, 23.68, 24.42, 22.6 , 21.92, 22.2 , 21.36, 22.88,\n",
       "       22.26, 22.34, 22.08, 21.24, 21.78, 20.88, 19.7 , 19.88, 20.98,\n",
       "       21.56, 22.98, 23.32, 23.28, 22.14, 22.5 , 23.14, 22.52, 20.92,\n",
       "       21.02, 22.36, 22.82, 17.38, 18.68, 19.4 , 20.46, 19.92, 21.7 ,\n",
       "       21.94, 21.42, 23.36, 20.06, 21.2 , 19.18, 19.04, 19.82, 20.26,\n",
       "       18.66, 16.22, 17.34, 19.26, 19.96, 18.14, 17.76, 17.8 , 16.14,\n",
       "       18.04, 16.94, 17.86, 17.12, 16.34, 16.72, 16.84, 17.18, 18.26,\n",
       "       18.6 , 18.64, 18.74, 19.46, 19.94, 21.8 , 22.06, 21.28, 22.94,\n",
       "       18.56, 17.68, 17.52, 16.28, 16.04, 17.94, 18.36, 18.32, 19.66,\n",
       "       20.62, 20.86, 20.32, 20.54, 22.72, 18.8 , 21.1 , 16.02, 14.82,\n",
       "       19.8 , 14.66, 15.82, 17.32, 18.54, 19.02, 14.54, 14.72, 15.26,\n",
       "       15.34, 15.48, 17.2 , 19.36, 17.78, 14.94, 12.9 , 15.78, 16.8 ,\n",
       "       17.02, 17.54, 19.24, 17.46, 23.3 , 20.18, 19.14, 20.2 , 19.98,\n",
       "       20.56, 14.52, 18.46, 15.9 , 16.82, 16.6 , 16.46, 16.2 , 16.76,\n",
       "       19.78, 20.1 , 21.16, 20.96, 19.62, 19.6 , 20.12, 20.42, 21.44,\n",
       "       21.58, 21.3 , 20.74, 18.08, 20.22, 16.98, 18.92, 16.1 , 24.54,\n",
       "       19.3 , 16.66, 16.12, 16.48, 18.72, 17.08, 18.82, 16.88, 14.  ,\n",
       "       14.18, 21.18, 25.24, 27.26, 28.06, 28.  , 25.7 , 26.14, 28.3 ,\n",
       "       23.24, 20.58, 22.3 , 21.22, 21.52, 24.74, 17.36, 24.5 , 26.56,\n",
       "       24.52, 23.06, 21.4 , 23.62, 28.12, 26.24, 19.86, 26.3 , 24.62,\n",
       "       19.9 , 20.5 , 17.64, 22.  , 23.86, 23.18, 21.82, 19.76, 18.3 ,\n",
       "       20.24, 23.72, 26.2 , 22.78, 25.06, 21.76, 25.5 , 26.16, 19.44,\n",
       "       20.8 , 22.28, 23.7 , 22.38, 19.1 , 22.1 , 22.44, 24.8 , 20.04,\n",
       "       23.96, 24.04, 26.28, 25.66, 22.04, 26.42, 23.74, 22.84, 24.6 ,\n",
       "       27.46, 23.58, 23.34, 22.64, 21.68, 21.38, 24.76])"
      ]
     },
     "execution_count": 41,
     "metadata": {},
     "output_type": "execute_result"
    }
   ],
   "source": [
    "consumo_df['temp_media'].unique()"
   ]
  },
  {
   "cell_type": "markdown",
   "metadata": {},
   "source": [
    "Entre quais colunas existe correlação?"
   ]
  },
  {
   "cell_type": "markdown",
   "metadata": {},
   "source": [
    "Quais colunas são fortes preditoras para o consumo de cerveja?"
   ]
  }
 ],
 "metadata": {
  "interpreter": {
   "hash": "916dbcbb3f70747c44a77c7bcd40155683ae19c65e1c03b4aa3499c5328201f1"
  },
  "kernelspec": {
   "display_name": "Python 3.8.10 64-bit",
   "language": "python",
   "name": "python3"
  },
  "language_info": {
   "codemirror_mode": {
    "name": "ipython",
    "version": 3
   },
   "file_extension": ".py",
   "mimetype": "text/x-python",
   "name": "python",
   "nbconvert_exporter": "python",
   "pygments_lexer": "ipython3",
   "version": "3.8.10"
  },
  "orig_nbformat": 4
 },
 "nbformat": 4,
 "nbformat_minor": 2
}
