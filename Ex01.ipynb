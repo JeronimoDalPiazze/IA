{
 "cells": [
  {
   "cell_type": "code",
   "execution_count": null,
   "id": "dd49c0b4",
   "metadata": {},
   "outputs": [],
   "source": [
    "import pandas as pd"
   ]
  },
  {
   "cell_type": "markdown",
   "id": "80ea1f3a",
   "metadata": {},
   "source": [
    "1. Baixar o dataset do MovieLens (AVA)\n",
    "2. Usar o Pandas para ler o arquivo \"ratings\""
   ]
  },
  {
   "cell_type": "code",
   "execution_count": null,
   "id": "3a624aa1",
   "metadata": {},
   "outputs": [],
   "source": [
    "ratings_df = pd.read_csv('files/ratings.csv')"
   ]
  },
  {
   "cell_type": "markdown",
   "id": "c876f4d3",
   "metadata": {},
   "source": [
    "3. Analisar as primeiras linhas do arquivo bem como o shape do dataframe"
   ]
  },
  {
   "cell_type": "code",
   "execution_count": null,
   "id": "be42a94f",
   "metadata": {},
   "outputs": [],
   "source": [
    "ratings_df.head(5)"
   ]
  },
  {
   "cell_type": "markdown",
   "id": "ed04c184",
   "metadata": {},
   "source": [
    "4. Sobrescrever os nomes das colunas"
   ]
  },
  {
   "cell_type": "code",
   "execution_count": null,
   "id": "8340533f",
   "metadata": {},
   "outputs": [],
   "source": [
    "ratings_df.columns = ['usuario', 'filmeId', 'nota', 'tempo']\n",
    "ratings_df"
   ]
  },
  {
   "cell_type": "markdown",
   "id": "d4473ed2",
   "metadata": {},
   "source": [
    "5. Analisar os valores únicos da coluna que contém a nota"
   ]
  },
  {
   "cell_type": "code",
   "execution_count": null,
   "id": "54e6b3b3",
   "metadata": {},
   "outputs": [],
   "source": [
    "sorted(ratings_df.nota.unique())"
   ]
  },
  {
   "cell_type": "markdown",
   "id": "46ad3700",
   "metadata": {},
   "source": [
    "6. Contar a quantidade de notas aplicadas para cada valor único de nota (value_counts())"
   ]
  },
  {
   "cell_type": "code",
   "execution_count": null,
   "id": "1691f655",
   "metadata": {},
   "outputs": [],
   "source": [
    "ratings_df.nota.value_counts()"
   ]
  },
  {
   "cell_type": "markdown",
   "id": "8f267199",
   "metadata": {},
   "source": [
    "7. Analisar a média das notas dos filmes"
   ]
  },
  {
   "cell_type": "code",
   "execution_count": null,
   "id": "80133de0",
   "metadata": {},
   "outputs": [],
   "source": [
    "print('media', ratings_df.nota.mean(), 'mediana', ratings_df.nota.median())"
   ]
  }
 ],
 "metadata": {
  "kernelspec": {
   "display_name": "Python 3 (ipykernel)",
   "language": "python",
   "name": "python3"
  },
  "language_info": {
   "codemirror_mode": {
    "name": "ipython",
    "version": 3
   },
   "file_extension": ".py",
   "mimetype": "text/x-python",
   "name": "python",
   "nbconvert_exporter": "python",
   "pygments_lexer": "ipython3",
   "version": "3.8.10"
  }
 },
 "nbformat": 4,
 "nbformat_minor": 5
}
