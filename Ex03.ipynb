{
 "cells": [
  {
   "cell_type": "markdown",
   "id": "f115269a",
   "metadata": {},
   "source": [
    "Ler o aluguel.csv (sep=\";\")"
   ]
  },
  {
   "cell_type": "code",
   "execution_count": null,
   "id": "3515d235",
   "metadata": {},
   "outputs": [],
   "source": [
    "import pandas as pd\n",
    "aluguel = pd.read_csv('files/aluguel.csv', sep=';')"
   ]
  },
  {
   "cell_type": "markdown",
   "id": "3c17f9bb",
   "metadata": {},
   "source": [
    "Quantas linhas e colunas tem?"
   ]
  },
  {
   "cell_type": "code",
   "execution_count": null,
   "id": "9aa9313b",
   "metadata": {},
   "outputs": [],
   "source": [
    "aluguel.shape"
   ]
  },
  {
   "cell_type": "markdown",
   "id": "62f211cb",
   "metadata": {},
   "source": [
    "Quantos tipos de imóveis existem?"
   ]
  },
  {
   "cell_type": "code",
   "execution_count": null,
   "id": "88ac50ee",
   "metadata": {},
   "outputs": [],
   "source": [
    "aluguel.Tipo.value_counts()"
   ]
  },
  {
   "cell_type": "markdown",
   "id": "f3f27545",
   "metadata": {},
   "source": [
    "Quantos bairros existem?"
   ]
  },
  {
   "cell_type": "code",
   "execution_count": 17,
   "id": "76ae78f4",
   "metadata": {},
   "outputs": [
    {
     "name": "stdout",
     "output_type": "stream",
     "text": [
      "162 Bairros\n"
     ]
    }
   ],
   "source": [
    "print(len(aluguel.Bairro.unique()), \"Bairros\")"
   ]
  },
  {
   "cell_type": "markdown",
   "id": "c6796202",
   "metadata": {},
   "source": [
    "Qual a média, mediana e desvio padrão da quantidade de quartos, vagas, suites, area, valor, condominio e iptu? \n",
    "Essas variáveis descrevem bem o comportamento dos dados?"
   ]
  },
  {
   "cell_type": "code",
   "execution_count": null,
   "id": "f577c1f4",
   "metadata": {},
   "outputs": [],
   "source": [
    "print(\"media_quartos\", aluguel.Quartos.mean(), \"mediana_quartos\", aluguel.Quartos.median(), \"desvio_quartos\", aluguel.Quartos.std())\n",
    "\n",
    "\n"
   ]
  },
  {
   "cell_type": "markdown",
   "id": "64505408",
   "metadata": {},
   "source": [
    "Existe variável categórica no dataset?"
   ]
  },
  {
   "cell_type": "code",
   "execution_count": null,
   "id": "7a5355d5",
   "metadata": {},
   "outputs": [],
   "source": []
  },
  {
   "cell_type": "markdown",
   "id": "51dd3e48",
   "metadata": {},
   "source": [
    "Existem outliers no valor? Analise em boxplot."
   ]
  },
  {
   "cell_type": "code",
   "execution_count": null,
   "id": "36fcdb57",
   "metadata": {},
   "outputs": [],
   "source": []
  },
  {
   "cell_type": "markdown",
   "id": "eee3df3a",
   "metadata": {},
   "source": [
    "Plote um histograma por bairro."
   ]
  },
  {
   "cell_type": "code",
   "execution_count": null,
   "id": "d8bf44c8",
   "metadata": {},
   "outputs": [],
   "source": []
  },
  {
   "cell_type": "markdown",
   "id": "0781a6bb",
   "metadata": {},
   "source": [
    "Quais bairros tem os imóveis mais caros?"
   ]
  },
  {
   "cell_type": "code",
   "execution_count": null,
   "id": "e9cba346",
   "metadata": {},
   "outputs": [],
   "source": []
  },
  {
   "cell_type": "markdown",
   "id": "55407f0e",
   "metadata": {},
   "source": [
    "Qual o valor do imóvel mais caro? E do mais barato?"
   ]
  },
  {
   "cell_type": "code",
   "execution_count": null,
   "id": "8cb747b8",
   "metadata": {},
   "outputs": [],
   "source": []
  },
  {
   "cell_type": "markdown",
   "id": "5437c349",
   "metadata": {},
   "source": [
    "Selecione apenas os imóveis do tipo \"apartamento\"."
   ]
  },
  {
   "cell_type": "code",
   "execution_count": null,
   "id": "bbd0f575",
   "metadata": {},
   "outputs": [],
   "source": []
  },
  {
   "cell_type": "markdown",
   "id": "098ec389",
   "metadata": {},
   "source": [
    "Selecione imóveis que são apartamento OU casa."
   ]
  },
  {
   "cell_type": "code",
   "execution_count": null,
   "id": "34f985e9",
   "metadata": {},
   "outputs": [],
   "source": []
  },
  {
   "cell_type": "markdown",
   "id": "e616eaff",
   "metadata": {},
   "source": [
    "Selecione imóveis com área entre 60 e 100 m2."
   ]
  },
  {
   "cell_type": "code",
   "execution_count": null,
   "id": "0f027c17",
   "metadata": {},
   "outputs": [],
   "source": []
  },
  {
   "cell_type": "markdown",
   "id": "2b9727e2",
   "metadata": {},
   "source": [
    "Existe correlação entre condominio e aluguel? E entre aluguel e IPTU?"
   ]
  },
  {
   "cell_type": "code",
   "execution_count": null,
   "id": "95df2b2b",
   "metadata": {},
   "outputs": [],
   "source": []
  },
  {
   "cell_type": "markdown",
   "id": "773f611f",
   "metadata": {},
   "source": [
    "Existem dados faltantes?"
   ]
  },
  {
   "cell_type": "code",
   "execution_count": null,
   "id": "809a5da9",
   "metadata": {},
   "outputs": [],
   "source": []
  },
  {
   "cell_type": "markdown",
   "id": "33c911a1",
   "metadata": {},
   "source": [
    "Os dados que tem nessa base são suficientes para uma análise preditiva?"
   ]
  },
  {
   "cell_type": "code",
   "execution_count": null,
   "id": "63e864f0",
   "metadata": {},
   "outputs": [],
   "source": []
  }
 ],
 "metadata": {
  "kernelspec": {
   "display_name": "Python 3 (ipykernel)",
   "language": "python",
   "name": "python3"
  },
  "language_info": {
   "codemirror_mode": {
    "name": "ipython",
    "version": 3
   },
   "file_extension": ".py",
   "mimetype": "text/x-python",
   "name": "python",
   "nbconvert_exporter": "python",
   "pygments_lexer": "ipython3",
   "version": "3.8.10"
  }
 },
 "nbformat": 4,
 "nbformat_minor": 5
}
