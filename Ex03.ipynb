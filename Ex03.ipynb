{
 "cells": [
  {
   "cell_type": "code",
   "execution_count": null,
   "id": "d0ef0c33",
   "metadata": {},
   "outputs": [],
   "source": [
    "import pandas as pd\n",
    "import seaborn as sns\n",
    "import matplotlib.pyplot as plt"
   ]
  },
  {
   "cell_type": "markdown",
   "id": "f115269a",
   "metadata": {},
   "source": [
    "Ler o aluguel.csv (sep=\";\")"
   ]
  },
  {
   "cell_type": "code",
   "execution_count": null,
   "id": "3515d235",
   "metadata": {},
   "outputs": [],
   "source": [
    "aluguel = pd.read_csv('files/aluguel.csv', sep=';')"
   ]
  },
  {
   "cell_type": "markdown",
   "id": "3c17f9bb",
   "metadata": {},
   "source": [
    "Quantas linhas e colunas tem?"
   ]
  },
  {
   "cell_type": "code",
   "execution_count": null,
   "id": "9aa9313b",
   "metadata": {},
   "outputs": [],
   "source": [
    "aluguel.shape"
   ]
  },
  {
   "cell_type": "markdown",
   "id": "62f211cb",
   "metadata": {},
   "source": [
    "Quantos tipos de imóveis existem?"
   ]
  },
  {
   "cell_type": "code",
   "execution_count": null,
   "id": "88ac50ee",
   "metadata": {},
   "outputs": [],
   "source": [
    "aluguel.Tipo.value_counts()"
   ]
  },
  {
   "cell_type": "markdown",
   "id": "f3f27545",
   "metadata": {},
   "source": [
    "Quantos bairros existem?"
   ]
  },
  {
   "cell_type": "code",
   "execution_count": null,
   "id": "76ae78f4",
   "metadata": {},
   "outputs": [],
   "source": [
    "print(len(aluguel.Bairro.unique()), \"Bairros\")"
   ]
  },
  {
   "cell_type": "markdown",
   "id": "c6796202",
   "metadata": {},
   "source": [
    "Qual a média, mediana e desvio padrão da quantidade de quartos, vagas, suites, area, valor, condominio e iptu? \n",
    "Essas variáveis descrevem bem o comportamento dos dados?"
   ]
  },
  {
   "cell_type": "code",
   "execution_count": null,
   "id": "f577c1f4",
   "metadata": {},
   "outputs": [],
   "source": [
    "media_quartos   = aluguel.Quartos.mean()\n",
    "mediana_quartos = aluguel.Quartos.median()\n",
    "desvio_quartos  = aluguel.Quartos.std()\n",
    "\n",
    "media_vagas     = aluguel.Vagas.mean()\n",
    "mediana_vagas   = aluguel.Vagas.median()\n",
    "desvio_vagas    = aluguel.Vagas.std()\n",
    "\n",
    "media_suites    = aluguel.Suites.mean()\n",
    "mediana_suites  = aluguel.Suites.median()\n",
    "desvio_suites   = aluguel.Suites.std()\n",
    "\n",
    "media_area      = aluguel.Area.mean()\n",
    "mediana_area    = aluguel.Area.median()\n",
    "desvio_area     = aluguel.Area.std()\n",
    "\n",
    "media_valor     = aluguel.Valor.mean()\n",
    "mediana_valor   = aluguel.Valor.median()\n",
    "desvio_valor    = aluguel.Valor.std()\n",
    "\n",
    "media_condominio    = aluguel.Condominio.mean()\n",
    "mediana_condominio  = aluguel.Condominio.median()\n",
    "desvio_condominio   = aluguel.Condominio.std()\n",
    "\n",
    "media_iptu      = aluguel.IPTU.mean()\n",
    "mediana_iptu    = aluguel.IPTU.median()\n",
    "desvio_iptu     = aluguel.IPTU.std()\n",
    "\n",
    "\n",
    "## falta fazer esse"
   ]
  },
  {
   "cell_type": "markdown",
   "id": "64505408",
   "metadata": {},
   "source": [
    "Existe variável categórica no dataset?"
   ]
  },
  {
   "cell_type": "code",
   "execution_count": null,
   "id": "7a5355d5",
   "metadata": {},
   "outputs": [],
   "source": [
    "# Sim\n",
    "aluguel['Bairro'],aluguel['Tipo']\n"
   ]
  },
  {
   "cell_type": "markdown",
   "id": "51dd3e48",
   "metadata": {},
   "source": [
    "Existem outliers no valor? Analise em boxplot."
   ]
  },
  {
   "cell_type": "code",
   "execution_count": null,
   "id": "36fcdb57",
   "metadata": {},
   "outputs": [],
   "source": []
  },
  {
   "cell_type": "markdown",
   "id": "eee3df3a",
   "metadata": {},
   "source": [
    "Plote um histograma por bairro."
   ]
  },
  {
   "cell_type": "code",
   "execution_count": 56,
   "id": "d8bf44c8",
   "metadata": {},
   "outputs": [
    {
     "ename": "ValueError",
     "evalue": "'10' is not a valid estimator for `bins`",
     "output_type": "error",
     "traceback": [
      "\u001b[0;31m---------------------------------------------------------------------------\u001b[0m",
      "\u001b[0;31mValueError\u001b[0m                                Traceback (most recent call last)",
      "\u001b[0;32m/tmp/ipykernel_245/3722808963.py\u001b[0m in \u001b[0;36m<module>\u001b[0;34m\u001b[0m\n\u001b[1;32m      2\u001b[0m \u001b[0;34m\u001b[0m\u001b[0m\n\u001b[1;32m      3\u001b[0m \u001b[0mx\u001b[0m \u001b[0;34m=\u001b[0m \u001b[0;34m[\u001b[0m\u001b[0maluguel\u001b[0m\u001b[0;34m.\u001b[0m\u001b[0mBairro\u001b[0m\u001b[0;34m]\u001b[0m\u001b[0;34m\u001b[0m\u001b[0;34m\u001b[0m\u001b[0m\n\u001b[0;32m----> 4\u001b[0;31m \u001b[0mplt\u001b[0m\u001b[0;34m.\u001b[0m\u001b[0mhist\u001b[0m\u001b[0;34m(\u001b[0m\u001b[0mx\u001b[0m\u001b[0;34m,\u001b[0m \u001b[0mbins\u001b[0m \u001b[0;34m=\u001b[0m\u001b[0;34m'10'\u001b[0m\u001b[0;34m)\u001b[0m\u001b[0;34m\u001b[0m\u001b[0;34m\u001b[0m\u001b[0m\n\u001b[0m\u001b[1;32m      5\u001b[0m \u001b[0mplt\u001b[0m\u001b[0;34m.\u001b[0m\u001b[0mshow\u001b[0m\u001b[0;34m(\u001b[0m\u001b[0;34m)\u001b[0m\u001b[0;34m\u001b[0m\u001b[0;34m\u001b[0m\u001b[0m\n",
      "\u001b[0;32m~/.local/lib/python3.8/site-packages/matplotlib/pyplot.py\u001b[0m in \u001b[0;36mhist\u001b[0;34m(x, bins, range, density, weights, cumulative, bottom, histtype, align, orientation, rwidth, log, color, label, stacked, data, **kwargs)\u001b[0m\n\u001b[1;32m   2588\u001b[0m         \u001b[0morientation\u001b[0m\u001b[0;34m=\u001b[0m\u001b[0;34m'vertical'\u001b[0m\u001b[0;34m,\u001b[0m \u001b[0mrwidth\u001b[0m\u001b[0;34m=\u001b[0m\u001b[0;32mNone\u001b[0m\u001b[0;34m,\u001b[0m \u001b[0mlog\u001b[0m\u001b[0;34m=\u001b[0m\u001b[0;32mFalse\u001b[0m\u001b[0;34m,\u001b[0m \u001b[0mcolor\u001b[0m\u001b[0;34m=\u001b[0m\u001b[0;32mNone\u001b[0m\u001b[0;34m,\u001b[0m\u001b[0;34m\u001b[0m\u001b[0;34m\u001b[0m\u001b[0m\n\u001b[1;32m   2589\u001b[0m         label=None, stacked=False, *, data=None, **kwargs):\n\u001b[0;32m-> 2590\u001b[0;31m     return gca().hist(\n\u001b[0m\u001b[1;32m   2591\u001b[0m         \u001b[0mx\u001b[0m\u001b[0;34m,\u001b[0m \u001b[0mbins\u001b[0m\u001b[0;34m=\u001b[0m\u001b[0mbins\u001b[0m\u001b[0;34m,\u001b[0m \u001b[0mrange\u001b[0m\u001b[0;34m=\u001b[0m\u001b[0mrange\u001b[0m\u001b[0;34m,\u001b[0m \u001b[0mdensity\u001b[0m\u001b[0;34m=\u001b[0m\u001b[0mdensity\u001b[0m\u001b[0;34m,\u001b[0m \u001b[0mweights\u001b[0m\u001b[0;34m=\u001b[0m\u001b[0mweights\u001b[0m\u001b[0;34m,\u001b[0m\u001b[0;34m\u001b[0m\u001b[0;34m\u001b[0m\u001b[0m\n\u001b[1;32m   2592\u001b[0m         \u001b[0mcumulative\u001b[0m\u001b[0;34m=\u001b[0m\u001b[0mcumulative\u001b[0m\u001b[0;34m,\u001b[0m \u001b[0mbottom\u001b[0m\u001b[0;34m=\u001b[0m\u001b[0mbottom\u001b[0m\u001b[0;34m,\u001b[0m \u001b[0mhisttype\u001b[0m\u001b[0;34m=\u001b[0m\u001b[0mhisttype\u001b[0m\u001b[0;34m,\u001b[0m\u001b[0;34m\u001b[0m\u001b[0;34m\u001b[0m\u001b[0m\n",
      "\u001b[0;32m~/.local/lib/python3.8/site-packages/matplotlib/__init__.py\u001b[0m in \u001b[0;36minner\u001b[0;34m(ax, data, *args, **kwargs)\u001b[0m\n\u001b[1;32m   1410\u001b[0m     \u001b[0;32mdef\u001b[0m \u001b[0minner\u001b[0m\u001b[0;34m(\u001b[0m\u001b[0max\u001b[0m\u001b[0;34m,\u001b[0m \u001b[0;34m*\u001b[0m\u001b[0margs\u001b[0m\u001b[0;34m,\u001b[0m \u001b[0mdata\u001b[0m\u001b[0;34m=\u001b[0m\u001b[0;32mNone\u001b[0m\u001b[0;34m,\u001b[0m \u001b[0;34m**\u001b[0m\u001b[0mkwargs\u001b[0m\u001b[0;34m)\u001b[0m\u001b[0;34m:\u001b[0m\u001b[0;34m\u001b[0m\u001b[0;34m\u001b[0m\u001b[0m\n\u001b[1;32m   1411\u001b[0m         \u001b[0;32mif\u001b[0m \u001b[0mdata\u001b[0m \u001b[0;32mis\u001b[0m \u001b[0;32mNone\u001b[0m\u001b[0;34m:\u001b[0m\u001b[0;34m\u001b[0m\u001b[0;34m\u001b[0m\u001b[0m\n\u001b[0;32m-> 1412\u001b[0;31m             \u001b[0;32mreturn\u001b[0m \u001b[0mfunc\u001b[0m\u001b[0;34m(\u001b[0m\u001b[0max\u001b[0m\u001b[0;34m,\u001b[0m \u001b[0;34m*\u001b[0m\u001b[0mmap\u001b[0m\u001b[0;34m(\u001b[0m\u001b[0msanitize_sequence\u001b[0m\u001b[0;34m,\u001b[0m \u001b[0margs\u001b[0m\u001b[0;34m)\u001b[0m\u001b[0;34m,\u001b[0m \u001b[0;34m**\u001b[0m\u001b[0mkwargs\u001b[0m\u001b[0;34m)\u001b[0m\u001b[0;34m\u001b[0m\u001b[0;34m\u001b[0m\u001b[0m\n\u001b[0m\u001b[1;32m   1413\u001b[0m \u001b[0;34m\u001b[0m\u001b[0m\n\u001b[1;32m   1414\u001b[0m         \u001b[0mbound\u001b[0m \u001b[0;34m=\u001b[0m \u001b[0mnew_sig\u001b[0m\u001b[0;34m.\u001b[0m\u001b[0mbind\u001b[0m\u001b[0;34m(\u001b[0m\u001b[0max\u001b[0m\u001b[0;34m,\u001b[0m \u001b[0;34m*\u001b[0m\u001b[0margs\u001b[0m\u001b[0;34m,\u001b[0m \u001b[0;34m**\u001b[0m\u001b[0mkwargs\u001b[0m\u001b[0;34m)\u001b[0m\u001b[0;34m\u001b[0m\u001b[0;34m\u001b[0m\u001b[0m\n",
      "\u001b[0;32m~/.local/lib/python3.8/site-packages/matplotlib/axes/_axes.py\u001b[0m in \u001b[0;36mhist\u001b[0;34m(self, x, bins, range, density, weights, cumulative, bottom, histtype, align, orientation, rwidth, log, color, label, stacked, **kwargs)\u001b[0m\n\u001b[1;32m   6637\u001b[0m             \u001b[0;31m# this will automatically overwrite bins,\u001b[0m\u001b[0;34m\u001b[0m\u001b[0;34m\u001b[0m\u001b[0;34m\u001b[0m\u001b[0m\n\u001b[1;32m   6638\u001b[0m             \u001b[0;31m# so that each histogram uses the same bins\u001b[0m\u001b[0;34m\u001b[0m\u001b[0;34m\u001b[0m\u001b[0;34m\u001b[0m\u001b[0m\n\u001b[0;32m-> 6639\u001b[0;31m             \u001b[0mm\u001b[0m\u001b[0;34m,\u001b[0m \u001b[0mbins\u001b[0m \u001b[0;34m=\u001b[0m \u001b[0mnp\u001b[0m\u001b[0;34m.\u001b[0m\u001b[0mhistogram\u001b[0m\u001b[0;34m(\u001b[0m\u001b[0mx\u001b[0m\u001b[0;34m[\u001b[0m\u001b[0mi\u001b[0m\u001b[0;34m]\u001b[0m\u001b[0;34m,\u001b[0m \u001b[0mbins\u001b[0m\u001b[0;34m,\u001b[0m \u001b[0mweights\u001b[0m\u001b[0;34m=\u001b[0m\u001b[0mw\u001b[0m\u001b[0;34m[\u001b[0m\u001b[0mi\u001b[0m\u001b[0;34m]\u001b[0m\u001b[0;34m,\u001b[0m \u001b[0;34m**\u001b[0m\u001b[0mhist_kwargs\u001b[0m\u001b[0;34m)\u001b[0m\u001b[0;34m\u001b[0m\u001b[0;34m\u001b[0m\u001b[0m\n\u001b[0m\u001b[1;32m   6640\u001b[0m             \u001b[0mtops\u001b[0m\u001b[0;34m.\u001b[0m\u001b[0mappend\u001b[0m\u001b[0;34m(\u001b[0m\u001b[0mm\u001b[0m\u001b[0;34m)\u001b[0m\u001b[0;34m\u001b[0m\u001b[0;34m\u001b[0m\u001b[0m\n\u001b[1;32m   6641\u001b[0m         \u001b[0mtops\u001b[0m \u001b[0;34m=\u001b[0m \u001b[0mnp\u001b[0m\u001b[0;34m.\u001b[0m\u001b[0marray\u001b[0m\u001b[0;34m(\u001b[0m\u001b[0mtops\u001b[0m\u001b[0;34m,\u001b[0m \u001b[0mfloat\u001b[0m\u001b[0;34m)\u001b[0m  \u001b[0;31m# causes problems later if it's an int\u001b[0m\u001b[0;34m\u001b[0m\u001b[0;34m\u001b[0m\u001b[0m\n",
      "\u001b[0;32m~/.local/lib/python3.8/site-packages/numpy/core/overrides.py\u001b[0m in \u001b[0;36mhistogram\u001b[0;34m(*args, **kwargs)\u001b[0m\n",
      "\u001b[0;32m~/.local/lib/python3.8/site-packages/numpy/lib/histograms.py\u001b[0m in \u001b[0;36mhistogram\u001b[0;34m(a, bins, range, normed, weights, density)\u001b[0m\n\u001b[1;32m    791\u001b[0m     \u001b[0ma\u001b[0m\u001b[0;34m,\u001b[0m \u001b[0mweights\u001b[0m \u001b[0;34m=\u001b[0m \u001b[0m_ravel_and_check_weights\u001b[0m\u001b[0;34m(\u001b[0m\u001b[0ma\u001b[0m\u001b[0;34m,\u001b[0m \u001b[0mweights\u001b[0m\u001b[0;34m)\u001b[0m\u001b[0;34m\u001b[0m\u001b[0;34m\u001b[0m\u001b[0m\n\u001b[1;32m    792\u001b[0m \u001b[0;34m\u001b[0m\u001b[0m\n\u001b[0;32m--> 793\u001b[0;31m     \u001b[0mbin_edges\u001b[0m\u001b[0;34m,\u001b[0m \u001b[0muniform_bins\u001b[0m \u001b[0;34m=\u001b[0m \u001b[0m_get_bin_edges\u001b[0m\u001b[0;34m(\u001b[0m\u001b[0ma\u001b[0m\u001b[0;34m,\u001b[0m \u001b[0mbins\u001b[0m\u001b[0;34m,\u001b[0m \u001b[0mrange\u001b[0m\u001b[0;34m,\u001b[0m \u001b[0mweights\u001b[0m\u001b[0;34m)\u001b[0m\u001b[0;34m\u001b[0m\u001b[0;34m\u001b[0m\u001b[0m\n\u001b[0m\u001b[1;32m    794\u001b[0m \u001b[0;34m\u001b[0m\u001b[0m\n\u001b[1;32m    795\u001b[0m     \u001b[0;31m# Histogram is an integer or a float array depending on the weights.\u001b[0m\u001b[0;34m\u001b[0m\u001b[0;34m\u001b[0m\u001b[0;34m\u001b[0m\u001b[0m\n",
      "\u001b[0;32m~/.local/lib/python3.8/site-packages/numpy/lib/histograms.py\u001b[0m in \u001b[0;36m_get_bin_edges\u001b[0;34m(a, bins, range, weights)\u001b[0m\n\u001b[1;32m    388\u001b[0m         \u001b[0;31m# this will replace it with the number of bins calculated\u001b[0m\u001b[0;34m\u001b[0m\u001b[0;34m\u001b[0m\u001b[0;34m\u001b[0m\u001b[0m\n\u001b[1;32m    389\u001b[0m         \u001b[0;32mif\u001b[0m \u001b[0mbin_name\u001b[0m \u001b[0;32mnot\u001b[0m \u001b[0;32min\u001b[0m \u001b[0m_hist_bin_selectors\u001b[0m\u001b[0;34m:\u001b[0m\u001b[0;34m\u001b[0m\u001b[0;34m\u001b[0m\u001b[0m\n\u001b[0;32m--> 390\u001b[0;31m             raise ValueError(\n\u001b[0m\u001b[1;32m    391\u001b[0m                 \"{!r} is not a valid estimator for `bins`\".format(bin_name))\n\u001b[1;32m    392\u001b[0m         \u001b[0;32mif\u001b[0m \u001b[0mweights\u001b[0m \u001b[0;32mis\u001b[0m \u001b[0;32mnot\u001b[0m \u001b[0;32mNone\u001b[0m\u001b[0;34m:\u001b[0m\u001b[0;34m\u001b[0m\u001b[0;34m\u001b[0m\u001b[0m\n",
      "\u001b[0;31mValueError\u001b[0m: '10' is not a valid estimator for `bins`"
     ]
    },
    {
     "data": {
      "image/png": "[encoded data removed]",
      "text/plain": [
       "<Figure size 432x288 with 1 Axes>"
      ]
     },
     "metadata": {
      "needs_background": "light"
     },
     "output_type": "display_data"
    }
   ],
   "source": [
    "import matplotlib.pyplot as plt\n",
    "\n",
    "x = [aluguel.Bairro]\n",
    "plt.hist(x, bins ='10')\n",
    "plt.show()\n"
   ]
  },
  {
   "cell_type": "markdown",
   "id": "0781a6bb",
   "metadata": {},
   "source": [
    "Quais bairros tem os imóveis mais caros?"
   ]
  },
  {
   "cell_type": "code",
   "execution_count": null,
   "id": "e9cba346",
   "metadata": {},
   "outputs": [],
   "source": [
    "aluguel.query()\n"
   ]
  },
  {
   "cell_type": "markdown",
   "id": "55407f0e",
   "metadata": {},
   "source": [
    "Qual o valor do imóvel mais caro? E do mais barato?"
   ]
  },
  {
   "cell_type": "code",
   "execution_count": null,
   "id": "8cb747b8",
   "metadata": {},
   "outputs": [],
   "source": [
    "aluguel"
   ]
  },
  {
   "cell_type": "markdown",
   "id": "5437c349",
   "metadata": {},
   "source": [
    "Selecione apenas os imóveis do tipo \"apartamento\"."
   ]
  },
  {
   "cell_type": "code",
   "execution_count": null,
   "id": "bbd0f575",
   "metadata": {},
   "outputs": [],
   "source": [
    "aluguel.query('Tipo == \"Apartamento\"')"
   ]
  },
  {
   "cell_type": "markdown",
   "id": "098ec389",
   "metadata": {},
   "source": [
    "Selecione imóveis que são apartamento OU casa."
   ]
  },
  {
   "cell_type": "code",
   "execution_count": null,
   "id": "34c7a748",
   "metadata": {},
   "outputs": [],
   "source": [
    "aluguel[aluguel['Tipo'].isin(['Apartamento', 'Casa'])]"
   ]
  },
  {
   "cell_type": "markdown",
   "id": "e616eaff",
   "metadata": {},
   "source": [
    "Selecione imóveis com área entre 60 e 100 m2."
   ]
  },
  {
   "cell_type": "code",
   "execution_count": null,
   "id": "0f027c17",
   "metadata": {},
   "outputs": [],
   "source": []
  },
  {
   "cell_type": "markdown",
   "id": "2b9727e2",
   "metadata": {},
   "source": [
    "Existe correlação entre condominio e aluguel? E entre aluguel e IPTU?"
   ]
  },
  {
   "cell_type": "code",
   "execution_count": null,
   "id": "95df2b2b",
   "metadata": {},
   "outputs": [],
   "source": []
  },
  {
   "cell_type": "markdown",
   "id": "773f611f",
   "metadata": {},
   "source": [
    "Existem dados faltantes?"
   ]
  },
  {
   "cell_type": "code",
   "execution_count": null,
   "id": "809a5da9",
   "metadata": {},
   "outputs": [],
   "source": []
  },
  {
   "cell_type": "markdown",
   "id": "33c911a1",
   "metadata": {},
   "source": [
    "Os dados que tem nessa base são suficientes para uma análise preditiva?"
   ]
  },
  {
   "cell_type": "code",
   "execution_count": null,
   "id": "63e864f0",
   "metadata": {},
   "outputs": [],
   "source": []
  }
 ],
 "metadata": {
  "kernelspec": {
   "display_name": "Python 3 (ipykernel)",
   "language": "python",
   "name": "python3"
  },
  "language_info": {
   "codemirror_mode": {
    "name": "ipython",
    "version": 3
   },
   "file_extension": ".py",
   "mimetype": "text/x-python",
   "name": "python",
   "nbconvert_exporter": "python",
   "pygments_lexer": "ipython3",
   "version": "3.8.10"
  }
 },
 "nbformat": 4,
 "nbformat_minor": 5
}
